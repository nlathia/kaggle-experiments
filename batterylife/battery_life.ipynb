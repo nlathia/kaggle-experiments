{
 "cells": [
  {
   "cell_type": "code",
   "execution_count": 1,
   "metadata": {
    "collapsed": false
   },
   "outputs": [
    {
     "name": "stdout",
     "output_type": "stream",
     "text": [
      "(100, 1)\n",
      "(100,)\n"
     ]
    }
   ],
   "source": [
    "import pandas as pd\n",
    "\n",
    "data = pd.read_csv('trainingdata.txt', header=None)\n",
    "\n",
    "X = data[0].reshape(-1, 1)\n",
    "y = data[1].values\n",
    "\n",
    "print X.shape\n",
    "print y.shape"
   ]
  },
  {
   "cell_type": "code",
   "execution_count": 2,
   "metadata": {
    "collapsed": false
   },
   "outputs": [
    {
     "data": {
      "image/png": "[encoded data removed]",
      "text/plain": [
       "<matplotlib.figure.Figure at 0x111246610>"
      ]
     },
     "metadata": {},
     "output_type": "display_data"
    }
   ],
   "source": [
    "%matplotlib inline\n",
    "\n",
    "import matplotlib\n",
    "import matplotlib.pyplot as plt\n",
    "import numpy as np\n",
    "\n",
    "plt.figure(figsize=(10,5))\n",
    "plt.scatter(X, y)\n",
    "plt.axvline(x=4)\n",
    "plt.show()"
   ]
  },
  {
   "cell_type": "code",
   "execution_count": 3,
   "metadata": {
    "collapsed": false
   },
   "outputs": [
    {
     "name": "stdout",
     "output_type": "stream",
     "text": [
      "(46, 1) (46,)\n",
      "(54, 1) (54,)\n"
     ]
    }
   ],
   "source": [
    "sub = data[data[0] < 4]\n",
    "X1 = sub[0].reshape(-1, 1)\n",
    "y1 = sub[1].values\n",
    "\n",
    "sub = data[data[0] >= 4]\n",
    "X2 = sub[0].reshape(-1, 1)\n",
    "y2 = sub[1].values\n",
    "\n",
    "print X1.shape, y1.shape\n",
    "print X2.shape, y2.shape"
   ]
  },
  {
   "cell_type": "code",
   "execution_count": 4,
   "metadata": {
    "collapsed": false
   },
   "outputs": [
    {
     "name": "stdout",
     "output_type": "stream",
     "text": [
      "8.0 0.0\n"
     ]
    }
   ],
   "source": [
    "import numpy as np\n",
    "\n",
    "print np.mean(y2), np.std(y2)"
   ]
  },
  {
   "cell_type": "markdown",
   "metadata": {},
   "source": [
    "Your score will be 10-X, where X is the sum of the distances you are from expected answer of each test case. For instance if there are 2 test cases with expected answer 4 and you print 3 for the first one and 6 for the second one your score will be 10-(1+2) = 7."
   ]
  },
  {
   "cell_type": "code",
   "execution_count": 7,
   "metadata": {
    "collapsed": false
   },
   "outputs": [
    {
     "name": "stdout",
     "output_type": "stream",
     "text": [
      "1.7763568394e-14\n",
      "[ 2.] 0.0\n"
     ]
    }
   ],
   "source": [
    "from sklearn.linear_model import LinearRegression\n",
    "from sklearn.cross_validation import train_test_split\n",
    "\n",
    "X_train, X_test, y_train, y_test = train_test_split(X1, y1, test_size=0.4)\n",
    "m = LinearRegression(fit_intercept=False)\n",
    "m.fit(X_train, y_train)\n",
    "\n",
    "predictions = m.predict(X_test)\n",
    "print sum(abs(predictions - y_test))\n",
    "\n",
    "print m.coef_, m.intercept_"
   ]
  },
  {
   "cell_type": "code",
   "execution_count": 8,
   "metadata": {
    "collapsed": false
   },
   "outputs": [
    {
     "name": "stdout",
     "output_type": "stream",
     "text": [
      "[ 5.44  6.84  7.94  3.16  4.66  5.16  2.22  7.06  3.5   2.54  4.08  2.2   0.\n",
      "  3.7   7.54  4.32  2.28  3.66  4.3 ]\n",
      "[ 5.44  6.84  7.94  3.16  4.66  5.16  2.22  7.06  3.5   2.54  4.08  2.2   0.\n",
      "  3.7   7.54  4.32  2.28  3.66  4.3 ]\n"
     ]
    }
   ],
   "source": [
    "print (2 * X_test)[:,0]\n",
    "print y_test"
   ]
  }
 ],
 "metadata": {
  "kernelspec": {
   "display_name": "Python 2",
   "language": "python",
   "name": "python2"
  },
  "language_info": {
   "codemirror_mode": {
    "name": "ipython",
    "version": 2
   },
   "file_extension": ".py",
   "mimetype": "text/x-python",
   "name": "python",
   "nbconvert_exporter": "python",
   "pygments_lexer": "ipython2",
   "version": "2.7.12"
  }
 },
 "nbformat": 4,
 "nbformat_minor": 0
}
